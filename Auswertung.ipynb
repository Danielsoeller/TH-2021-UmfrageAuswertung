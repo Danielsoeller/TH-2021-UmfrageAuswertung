{
 "cells": [
  {
   "cell_type": "code",
   "execution_count": 6,
   "metadata": {},
   "outputs": [
    {
     "name": "stdout",
     "output_type": "stream",
     "text": [
      "pandas 1.1.3\n",
      "numpy 1.19.2\n",
      "seaborn 0.11.0\n"
     ]
    }
   ],
   "source": [
    "import pandas as pd\n",
    "print (\"pandas\", pd.__version__)\n",
    "\n",
    "import numpy as np\n",
    "print (\"numpy\", np.__version__)\n",
    "import matplotlib\n",
    "import matplotlib.pyplot as plt\n",
    "import seaborn as sns\n",
    "print (\"seaborn\", sns.__version__)\n"
   ]
  },
  {
   "cell_type": "code",
   "execution_count": 7,
   "metadata": {},
   "outputs": [
    {
     "data": {
      "text/html": [
       "<div>\n",
       "<style scoped>\n",
       "    .dataframe tbody tr th:only-of-type {\n",
       "        vertical-align: middle;\n",
       "    }\n",
       "\n",
       "    .dataframe tbody tr th {\n",
       "        vertical-align: top;\n",
       "    }\n",
       "\n",
       "    .dataframe thead th {\n",
       "        text-align: right;\n",
       "    }\n",
       "</style>\n",
       "<table border=\"1\" class=\"dataframe\">\n",
       "  <thead>\n",
       "    <tr style=\"text-align: right;\">\n",
       "      <th></th>\n",
       "      <th>lfdn</th>\n",
       "      <th>external_lfdn</th>\n",
       "      <th>tester</th>\n",
       "      <th>dispcode</th>\n",
       "      <th>lastpage</th>\n",
       "      <th>quality</th>\n",
       "      <th>duration</th>\n",
       "      <th>v_3</th>\n",
       "      <th>v_4</th>\n",
       "      <th>v_5</th>\n",
       "      <th>...</th>\n",
       "      <th>rts6898882</th>\n",
       "      <th>rts6904232</th>\n",
       "      <th>rts6904234</th>\n",
       "      <th>rts6904237</th>\n",
       "      <th>rts6904242</th>\n",
       "      <th>rts6904243</th>\n",
       "      <th>rts6905176</th>\n",
       "      <th>rts6905230</th>\n",
       "      <th>rts6905237</th>\n",
       "      <th>rts6912113</th>\n",
       "    </tr>\n",
       "  </thead>\n",
       "  <tbody>\n",
       "    <tr>\n",
       "      <th>0</th>\n",
       "      <td>38</td>\n",
       "      <td>0</td>\n",
       "      <td>Kein Tester</td>\n",
       "      <td>Beendet (31)</td>\n",
       "      <td>6898888</td>\n",
       "      <td>-77</td>\n",
       "      <td>610</td>\n",
       "      <td>mÃ¤nnlich</td>\n",
       "      <td>1957</td>\n",
       "      <td>Masterabschluss</td>\n",
       "      <td>...</td>\n",
       "      <td>0</td>\n",
       "      <td>245</td>\n",
       "      <td>0</td>\n",
       "      <td>525</td>\n",
       "      <td>605</td>\n",
       "      <td>346</td>\n",
       "      <td>0</td>\n",
       "      <td>0</td>\n",
       "      <td>584</td>\n",
       "      <td>610</td>\n",
       "    </tr>\n",
       "    <tr>\n",
       "      <th>1</th>\n",
       "      <td>39</td>\n",
       "      <td>0</td>\n",
       "      <td>Kein Tester</td>\n",
       "      <td>Beendet nach Unterbrechung (32)</td>\n",
       "      <td>6898888</td>\n",
       "      <td>-77</td>\n",
       "      <td>-1</td>\n",
       "      <td>weiblich</td>\n",
       "      <td>1966</td>\n",
       "      <td>Allgemeine Hochschulreife / Abitur</td>\n",
       "      <td>...</td>\n",
       "      <td>0</td>\n",
       "      <td>33473</td>\n",
       "      <td>0</td>\n",
       "      <td>33601</td>\n",
       "      <td>33654</td>\n",
       "      <td>33525</td>\n",
       "      <td>33719</td>\n",
       "      <td>0</td>\n",
       "      <td>33635</td>\n",
       "      <td>33726</td>\n",
       "    </tr>\n",
       "    <tr>\n",
       "      <th>2</th>\n",
       "      <td>40</td>\n",
       "      <td>0</td>\n",
       "      <td>Kein Tester</td>\n",
       "      <td>Beendet (31)</td>\n",
       "      <td>6898888</td>\n",
       "      <td>-77</td>\n",
       "      <td>311</td>\n",
       "      <td>mÃ¤nnlich</td>\n",
       "      <td>1990</td>\n",
       "      <td>Allgemeine Hochschulreife / Abitur</td>\n",
       "      <td>...</td>\n",
       "      <td>0</td>\n",
       "      <td>191</td>\n",
       "      <td>0</td>\n",
       "      <td>295</td>\n",
       "      <td>308</td>\n",
       "      <td>249</td>\n",
       "      <td>0</td>\n",
       "      <td>0</td>\n",
       "      <td>0</td>\n",
       "      <td>311</td>\n",
       "    </tr>\n",
       "    <tr>\n",
       "      <th>3</th>\n",
       "      <td>41</td>\n",
       "      <td>0</td>\n",
       "      <td>Kein Tester</td>\n",
       "      <td>Beendet (31)</td>\n",
       "      <td>6898888</td>\n",
       "      <td>-77</td>\n",
       "      <td>177</td>\n",
       "      <td>weiblich</td>\n",
       "      <td>1996</td>\n",
       "      <td>Allgemeine Hochschulreife / Abitur</td>\n",
       "      <td>...</td>\n",
       "      <td>0</td>\n",
       "      <td>108</td>\n",
       "      <td>0</td>\n",
       "      <td>119</td>\n",
       "      <td>128</td>\n",
       "      <td>111</td>\n",
       "      <td>0</td>\n",
       "      <td>0</td>\n",
       "      <td>0</td>\n",
       "      <td>177</td>\n",
       "    </tr>\n",
       "    <tr>\n",
       "      <th>4</th>\n",
       "      <td>42</td>\n",
       "      <td>0</td>\n",
       "      <td>Kein Tester</td>\n",
       "      <td>Beendet (31)</td>\n",
       "      <td>6898888</td>\n",
       "      <td>-77</td>\n",
       "      <td>442</td>\n",
       "      <td>mÃ¤nnlich</td>\n",
       "      <td>1996</td>\n",
       "      <td>Bachelorabschluss</td>\n",
       "      <td>...</td>\n",
       "      <td>0</td>\n",
       "      <td>175</td>\n",
       "      <td>0</td>\n",
       "      <td>350</td>\n",
       "      <td>402</td>\n",
       "      <td>227</td>\n",
       "      <td>416</td>\n",
       "      <td>0</td>\n",
       "      <td>384</td>\n",
       "      <td>442</td>\n",
       "    </tr>\n",
       "    <tr>\n",
       "      <th>...</th>\n",
       "      <td>...</td>\n",
       "      <td>...</td>\n",
       "      <td>...</td>\n",
       "      <td>...</td>\n",
       "      <td>...</td>\n",
       "      <td>...</td>\n",
       "      <td>...</td>\n",
       "      <td>...</td>\n",
       "      <td>...</td>\n",
       "      <td>...</td>\n",
       "      <td>...</td>\n",
       "      <td>...</td>\n",
       "      <td>...</td>\n",
       "      <td>...</td>\n",
       "      <td>...</td>\n",
       "      <td>...</td>\n",
       "      <td>...</td>\n",
       "      <td>...</td>\n",
       "      <td>...</td>\n",
       "      <td>...</td>\n",
       "      <td>...</td>\n",
       "    </tr>\n",
       "    <tr>\n",
       "      <th>80</th>\n",
       "      <td>184</td>\n",
       "      <td>0</td>\n",
       "      <td>Kein Tester</td>\n",
       "      <td>Beendet (31)</td>\n",
       "      <td>6898888</td>\n",
       "      <td>-77</td>\n",
       "      <td>232</td>\n",
       "      <td>weiblich</td>\n",
       "      <td>1997</td>\n",
       "      <td>Fachhochschulreife</td>\n",
       "      <td>...</td>\n",
       "      <td>0</td>\n",
       "      <td>129</td>\n",
       "      <td>0</td>\n",
       "      <td>192</td>\n",
       "      <td>230</td>\n",
       "      <td>155</td>\n",
       "      <td>0</td>\n",
       "      <td>0</td>\n",
       "      <td>218</td>\n",
       "      <td>232</td>\n",
       "    </tr>\n",
       "    <tr>\n",
       "      <th>81</th>\n",
       "      <td>185</td>\n",
       "      <td>0</td>\n",
       "      <td>Kein Tester</td>\n",
       "      <td>Beendet (31)</td>\n",
       "      <td>6898888</td>\n",
       "      <td>-77</td>\n",
       "      <td>570</td>\n",
       "      <td>mÃ¤nnlich</td>\n",
       "      <td>1995</td>\n",
       "      <td>Masterabschluss</td>\n",
       "      <td>...</td>\n",
       "      <td>0</td>\n",
       "      <td>371</td>\n",
       "      <td>0</td>\n",
       "      <td>503</td>\n",
       "      <td>567</td>\n",
       "      <td>441</td>\n",
       "      <td>0</td>\n",
       "      <td>0</td>\n",
       "      <td>545</td>\n",
       "      <td>570</td>\n",
       "    </tr>\n",
       "    <tr>\n",
       "      <th>82</th>\n",
       "      <td>186</td>\n",
       "      <td>0</td>\n",
       "      <td>Kein Tester</td>\n",
       "      <td>Beendet (31)</td>\n",
       "      <td>6898888</td>\n",
       "      <td>-77</td>\n",
       "      <td>391</td>\n",
       "      <td>mÃ¤nnlich</td>\n",
       "      <td>1954</td>\n",
       "      <td>Allgemeine Hochschulreife / Abitur</td>\n",
       "      <td>...</td>\n",
       "      <td>0</td>\n",
       "      <td>211</td>\n",
       "      <td>0</td>\n",
       "      <td>335</td>\n",
       "      <td>387</td>\n",
       "      <td>275</td>\n",
       "      <td>0</td>\n",
       "      <td>0</td>\n",
       "      <td>368</td>\n",
       "      <td>391</td>\n",
       "    </tr>\n",
       "    <tr>\n",
       "      <th>83</th>\n",
       "      <td>187</td>\n",
       "      <td>0</td>\n",
       "      <td>Kein Tester</td>\n",
       "      <td>Beendet (31)</td>\n",
       "      <td>6898888</td>\n",
       "      <td>-77</td>\n",
       "      <td>372</td>\n",
       "      <td>weiblich</td>\n",
       "      <td>1997</td>\n",
       "      <td>Allgemeine Hochschulreife / Abitur</td>\n",
       "      <td>...</td>\n",
       "      <td>0</td>\n",
       "      <td>197</td>\n",
       "      <td>0</td>\n",
       "      <td>302</td>\n",
       "      <td>349</td>\n",
       "      <td>255</td>\n",
       "      <td>0</td>\n",
       "      <td>0</td>\n",
       "      <td>332</td>\n",
       "      <td>372</td>\n",
       "    </tr>\n",
       "    <tr>\n",
       "      <th>84</th>\n",
       "      <td>189</td>\n",
       "      <td>0</td>\n",
       "      <td>Kein Tester</td>\n",
       "      <td>Beendet (31)</td>\n",
       "      <td>6898888</td>\n",
       "      <td>-77</td>\n",
       "      <td>429</td>\n",
       "      <td>mÃ¤nnlich</td>\n",
       "      <td>2000</td>\n",
       "      <td>Allgemeine Hochschulreife / Abitur</td>\n",
       "      <td>...</td>\n",
       "      <td>0</td>\n",
       "      <td>166</td>\n",
       "      <td>0</td>\n",
       "      <td>358</td>\n",
       "      <td>426</td>\n",
       "      <td>260</td>\n",
       "      <td>0</td>\n",
       "      <td>0</td>\n",
       "      <td>400</td>\n",
       "      <td>429</td>\n",
       "    </tr>\n",
       "  </tbody>\n",
       "</table>\n",
       "<p>85 rows × 120 columns</p>\n",
       "</div>"
      ],
      "text/plain": [
       "    lfdn  external_lfdn       tester                         dispcode  \\\n",
       "0     38              0  Kein Tester                     Beendet (31)   \n",
       "1     39              0  Kein Tester  Beendet nach Unterbrechung (32)   \n",
       "2     40              0  Kein Tester                     Beendet (31)   \n",
       "3     41              0  Kein Tester                     Beendet (31)   \n",
       "4     42              0  Kein Tester                     Beendet (31)   \n",
       "..   ...            ...          ...                              ...   \n",
       "80   184              0  Kein Tester                     Beendet (31)   \n",
       "81   185              0  Kein Tester                     Beendet (31)   \n",
       "82   186              0  Kein Tester                     Beendet (31)   \n",
       "83   187              0  Kein Tester                     Beendet (31)   \n",
       "84   189              0  Kein Tester                     Beendet (31)   \n",
       "\n",
       "    lastpage  quality  duration        v_3   v_4  \\\n",
       "0    6898888      -77       610  mÃ¤nnlich  1957   \n",
       "1    6898888      -77        -1   weiblich  1966   \n",
       "2    6898888      -77       311  mÃ¤nnlich  1990   \n",
       "3    6898888      -77       177   weiblich  1996   \n",
       "4    6898888      -77       442  mÃ¤nnlich  1996   \n",
       "..       ...      ...       ...        ...   ...   \n",
       "80   6898888      -77       232   weiblich  1997   \n",
       "81   6898888      -77       570  mÃ¤nnlich  1995   \n",
       "82   6898888      -77       391  mÃ¤nnlich  1954   \n",
       "83   6898888      -77       372   weiblich  1997   \n",
       "84   6898888      -77       429  mÃ¤nnlich  2000   \n",
       "\n",
       "                                   v_5  ... rts6898882 rts6904232 rts6904234  \\\n",
       "0                      Masterabschluss  ...          0        245          0   \n",
       "1   Allgemeine Hochschulreife / Abitur  ...          0      33473          0   \n",
       "2   Allgemeine Hochschulreife / Abitur  ...          0        191          0   \n",
       "3   Allgemeine Hochschulreife / Abitur  ...          0        108          0   \n",
       "4                    Bachelorabschluss  ...          0        175          0   \n",
       "..                                 ...  ...        ...        ...        ...   \n",
       "80                  Fachhochschulreife  ...          0        129          0   \n",
       "81                     Masterabschluss  ...          0        371          0   \n",
       "82  Allgemeine Hochschulreife / Abitur  ...          0        211          0   \n",
       "83  Allgemeine Hochschulreife / Abitur  ...          0        197          0   \n",
       "84  Allgemeine Hochschulreife / Abitur  ...          0        166          0   \n",
       "\n",
       "   rts6904237 rts6904242 rts6904243 rts6905176 rts6905230 rts6905237  \\\n",
       "0         525        605        346          0          0        584   \n",
       "1       33601      33654      33525      33719          0      33635   \n",
       "2         295        308        249          0          0          0   \n",
       "3         119        128        111          0          0          0   \n",
       "4         350        402        227        416          0        384   \n",
       "..        ...        ...        ...        ...        ...        ...   \n",
       "80        192        230        155          0          0        218   \n",
       "81        503        567        441          0          0        545   \n",
       "82        335        387        275          0          0        368   \n",
       "83        302        349        255          0          0        332   \n",
       "84        358        426        260          0          0        400   \n",
       "\n",
       "   rts6912113  \n",
       "0         610  \n",
       "1       33726  \n",
       "2         311  \n",
       "3         177  \n",
       "4         442  \n",
       "..        ...  \n",
       "80        232  \n",
       "81        570  \n",
       "82        391  \n",
       "83        372  \n",
       "84        429  \n",
       "\n",
       "[85 rows x 120 columns]"
      ]
     },
     "execution_count": 7,
     "metadata": {},
     "output_type": "execute_result"
    }
   ],
   "source": [
    "Data= pd.read_excel(\"Data.xlsx\")\n",
    "Data"
   ]
  },
  {
   "cell_type": "code",
   "execution_count": null,
   "metadata": {},
   "outputs": [],
   "source": []
  },
  {
   "cell_type": "code",
   "execution_count": null,
   "metadata": {},
   "outputs": [],
   "source": [
    "Data.describe\n"
   ]
  },
  {
   "cell_type": "code",
   "execution_count": null,
   "metadata": {},
   "outputs": [],
   "source": [
    "Data.head"
   ]
  },
  {
   "cell_type": "code",
   "execution_count": null,
   "metadata": {},
   "outputs": [],
   "source": [
    "Data.loc[1]"
   ]
  },
  {
   "cell_type": "code",
   "execution_count": 11,
   "metadata": {},
   "outputs": [
    {
     "data": {
      "text/plain": [
       "-77                     28\n",
       "stimme nicht zu         16\n",
       "teils-teils             12\n",
       "stimme zu               11\n",
       "stimme eher nicht zu    10\n",
       "stimme eher zu           8\n",
       "Name: v_180, dtype: int64"
      ]
     },
     "execution_count": 11,
     "metadata": {},
     "output_type": "execute_result"
    }
   ],
   "source": [
    "#Balken = Data.loc[:,[\"v_177\", \"v_178\", \"v_179\", \"v_180\"]]\n",
    "Balken = Data.loc[:,\"v_177\"]\n",
    "Balken.value_counts()"
   ]
  },
  {
   "cell_type": "code",
   "execution_count": 19,
   "metadata": {},
   "outputs": [
    {
     "data": {
      "image/png": "[encoded data removed]",
      "text/plain": [
       "<Figure size 662.4x360 with 1 Axes>"
      ]
     },
     "metadata": {
      "needs_background": "light"
     },
     "output_type": "display_data"
    }
   ],
   "source": [
    "# https://matplotlib.org/stable/gallery/lines_bars_and_markers/horizontal_barchart_distribution.html#sphx-glr-gallery-lines-bars-and-markers-horizontal-barchart-distribution-py\n",
    "category_names = ['Stimme nicht zu', 'Stimme eher nicht zu',\n",
    "                  'teils-teils', 'Stimme eher zu', 'Stimmen zu']\n",
    "results = {\n",
    "    'Seit meiner Impfung fühle ich mich sicherer als zuvor.': [12, 12, 19, 8, 6],\n",
    "    'Die aktuellen Einschränkungen sollten nur für Nicht-Geimpfte gelten.': [9, 7, 14, 6, 5],\n",
    "    'Es ist Überflüssig geworden, sich an die Maßnahmen zu halten.': [31, 13, 12, 0, 12],\n",
    "    'Ich habe nichts an meiner Verhaltensweise verändert.': [16, 10, 12, 8, 11]\n",
    "}\n",
    "\n",
    "\n",
    "def survey(results, category_names):\n",
    "    \"\"\"\n",
    "    Parameters\n",
    "    ----------\n",
    "    results : dict\n",
    "        A mapping from question labels to a list of answers per category.\n",
    "        It is assumed all lists contain the same number of entries and that\n",
    "        it matches the length of *category_names*.\n",
    "    category_names : list of str\n",
    "        The category labels.\n",
    "    \"\"\"\n",
    "    labels = list(results.keys())\n",
    "    data = np.array(list(results.values()))\n",
    "    data_cum = data.cumsum(axis=1)\n",
    "    category_colors = plt.get_cmap('RdYlGn')(\n",
    "        np.linspace(0.15, 0.85, data.shape[1]))\n",
    "\n",
    "    fig, ax = plt.subplots(figsize=(9.2, 5))\n",
    "    ax.invert_yaxis()\n",
    "    ax.xaxis.set_visible(False)\n",
    "    ax.set_xlim(0, np.sum(data, axis=1).max())\n",
    "\n",
    "    for i, (colname, color) in enumerate(zip(category_names, category_colors)):\n",
    "        widths = data[:, i]\n",
    "        starts = data_cum[:, i] - widths\n",
    "        rects = ax.barh(labels, widths, left=starts, height=0.5,\n",
    "                        label=colname, color=color)\n",
    "\n",
    "        r, g, b, _ = color\n",
    "        text_color = 'white' if r * g * b < 0.5 else 'darkgrey'\n",
    "        #ax.bar_label(rects, label_type='center', color=text_color)\n",
    "    ax.legend(ncol=len(category_names), bbox_to_anchor=(0, 1),\n",
    "              loc='lower left', fontsize='small')\n",
    "\n",
    "    return fig, ax\n",
    "\n",
    "\n",
    "survey(results, category_names)\n",
    "plt.show()"
   ]
  },
  {
   "cell_type": "code",
   "execution_count": 13,
   "metadata": {},
   "outputs": [
    {
     "data": {
      "text/plain": [
       "weiblich        53\n",
       "mÃ¤nnlich       30\n",
       "divers           1\n",
       "keine Angabe     1\n",
       "Name: v_3, dtype: int64"
      ]
     },
     "execution_count": 13,
     "metadata": {},
     "output_type": "execute_result"
    }
   ],
   "source": [
    "Balken = Data.loc[:,\"v_3\"]\n",
    "Balken.value_counts()"
   ]
  },
  {
   "cell_type": "code",
   "execution_count": 14,
   "metadata": {},
   "outputs": [
    {
     "data": {
      "image/png": "[encoded data removed]",
      "text/plain": [
       "<Figure size 432x288 with 1 Axes>"
      ]
     },
     "metadata": {},
     "output_type": "display_data"
    }
   ],
   "source": [
    "# https://matplotlib.org/stable/gallery/pie_and_polar_charts/pie_features.html#sphx-glr-gallery-pie-and-polar-charts-pie-features-py\n",
    "# Pie chart, where the slices will be ordered and plotted counter-clockwise:\n",
    "labels = 'Männlich', 'Weiblich', 'divers'\n",
    "sizes = [30, 53, 1]\n",
    "explode = (0.1, 0.1, 0.1)  # only \"explode\" the 2nd slice (i.e. 'Hogs')\n",
    "\n",
    "fig1, ax1 = plt.subplots()\n",
    "ax1.pie(sizes, explode=explode, labels=labels, autopct='%1.1f%%',\n",
    "        shadow=True, startangle=90)\n",
    "ax1.axis('equal')  # Equal aspect ratio ensures that pie is drawn as a circle.\n",
    "\n",
    "plt.show()"
   ]
  },
  {
   "cell_type": "code",
   "execution_count": 16,
   "metadata": {},
   "outputs": [
    {
     "data": {
      "image/png": "[encoded data removed]",
      "text/plain": [
       "<Figure size 432x288 with 1 Axes>"
      ]
     },
     "metadata": {},
     "output_type": "display_data"
    }
   ],
   "source": [
    "# https://matplotlib.org/stable/gallery/pie_and_polar_charts/pie_features.html#sphx-glr-gallery-pie-and-polar-charts-pie-features-py\n",
    "# Pie chart, where the slices will be ordered and plotted counter-clockwise:\n",
    "labels = 'Zufrieden', 'Sonstiges', 'kein Lockdown', 'Kurzer Lockdown'\n",
    "sizes = [49, 5, 2, 27]\n",
    "explode = (0.1, 0.3, 0.1, 0.1)  # only \"explode\" the 2nd slice (i.e. 'Hogs')\n",
    "\n",
    "fig1, ax1 = plt.subplots()\n",
    "ax1.pie(sizes, explode=explode, labels=labels, autopct='%1.1f%%',\n",
    "        shadow=True, startangle=100, colors=[\"forestgreen\", \"darkorange\", \"red\", \"gold\" ])\n",
    "ax1.axis('equal')  # Equal aspect ratio ensures that pie is drawn as a circle.\n",
    "\n",
    "plt.show()"
   ]
  },
  {
   "cell_type": "code",
   "execution_count": null,
   "metadata": {},
   "outputs": [],
   "source": [
    "plt.savefig('Meinung.png')\n",
    "plt.show()"
   ]
  },
  {
   "cell_type": "code",
   "execution_count": 17,
   "metadata": {},
   "outputs": [
    {
     "data": {
      "text/plain": [
       "0     1957\n",
       "1     1966\n",
       "2     1990\n",
       "3     1996\n",
       "4     1996\n",
       "      ... \n",
       "80    1997\n",
       "81    1995\n",
       "82    1954\n",
       "83    1997\n",
       "84    2000\n",
       "Name: v_4, Length: 85, dtype: int64"
      ]
     },
     "execution_count": 17,
     "metadata": {},
     "output_type": "execute_result"
    }
   ],
   "source": [
    "Balken = Data.loc[:,\"v_4\"]\n",
    "Balken.rename(\"Alter\")\n",
    "Balken.value_counts()\n",
    "Balken"
   ]
  },
  {
   "cell_type": "code",
   "execution_count": 18,
   "metadata": {},
   "outputs": [
    {
     "data": {
      "text/plain": [
       "<AxesSubplot:xlabel='v_4'>"
      ]
     },
     "execution_count": 18,
     "metadata": {},
     "output_type": "execute_result"
    },
    {
     "data": {
      "image/png": "[encoded data removed]",
      "text/plain": [
       "<Figure size 432x288 with 1 Axes>"
      ]
     },
     "metadata": {
      "needs_background": "light"
     },
     "output_type": "display_data"
    }
   ],
   "source": [
    "sns.violinplot(x=Balken )"
   ]
  }
 ],
 "metadata": {
  "interpreter": {
   "hash": "319c24ade14b7873a3f936c1569cf8c1853592b8350107cb8f60c9b2a2771b37"
  },
  "kernelspec": {
   "display_name": "Python 3.8.5 64-bit ('base': conda)",
   "name": "python3"
  },
  "language_info": {
   "name": "python",
   "version": ""
  }
 },
 "nbformat": 4,
 "nbformat_minor": 4
}