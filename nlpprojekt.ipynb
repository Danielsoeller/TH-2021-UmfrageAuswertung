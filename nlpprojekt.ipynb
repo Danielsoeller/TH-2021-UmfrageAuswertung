{
 "cells": [
  {
   "cell_type": "code",
   "execution_count": 2,
   "metadata": {},
   "outputs": [
    {
     "name": "stdout",
     "output_type": "stream",
     "text": [
      "pandas 1.1.3\n",
      "numpy 1.19.2\n",
      "nltk 3.5\n",
      "re 2.2.1\n",
      "sklearn 0.23.2\n"
     ]
    }
   ],
   "source": [
    "import pandas as pd\n",
    "print (\"pandas\", pd.__version__)\n",
    "\n",
    "import numpy as np\n",
    "print (\"numpy\", np.__version__)\n",
    "\n",
    "import nltk\n",
    "print (\"nltk\", nltk.__version__)\n",
    "\n",
    "import re\n",
    "print (\"re\", re.__version__)\n",
    "\n",
    "import sklearn\n",
    "print (\"sklearn\", sklearn.__version__)\n",
    "\n",
    "import re"
   ]
  },
  {
   "cell_type": "code",
   "execution_count": 2,
   "metadata": {},
   "outputs": [
    {
     "name": "stdout",
     "output_type": "stream",
     "text": [
      "Requirement already satisfied: pandarallel in c:\\users\\daniel\\anaconda3\\lib\\site-packages (1.5.2)\n",
      "Requirement already satisfied: dill in c:\\users\\daniel\\anaconda3\\lib\\site-packages (from pandarallel) (0.3.3)\n",
      "Note: you may need to restart the kernel to use updated packages.\n"
     ]
    }
   ],
   "source": [
    "pip install pandarallel"
   ]
  },
  {
   "cell_type": "code",
   "execution_count": 4,
   "metadata": {},
   "outputs": [
    {
     "name": "stdout",
     "output_type": "stream",
     "text": [
      "INFO: Pandarallel will run on 12 workers.\n",
      "INFO: Pandarallel will use standard multiprocessing data transfer (pipe) to transfer data between the main process and workers.\n"
     ]
    }
   ],
   "source": [
    "# quality of life improvements\n",
    "from pandarallel import pandarallel  # parallelization\n",
    "pandarallel.initialize()"
   ]
  },
  {
   "cell_type": "code",
   "execution_count": 4,
   "metadata": {},
   "outputs": [
    {
     "data": {
      "text/html": [
       "<div>\n",
       "<style scoped>\n",
       "    .dataframe tbody tr th:only-of-type {\n",
       "        vertical-align: middle;\n",
       "    }\n",
       "\n",
       "    .dataframe tbody tr th {\n",
       "        vertical-align: top;\n",
       "    }\n",
       "\n",
       "    .dataframe thead th {\n",
       "        text-align: right;\n",
       "    }\n",
       "</style>\n",
       "<table border=\"1\" class=\"dataframe\">\n",
       "  <thead>\n",
       "    <tr style=\"text-align: right;\">\n",
       "      <th></th>\n",
       "      <th>id</th>\n",
       "      <th>queryterm</th>\n",
       "      <th>date</th>\n",
       "      <th>client</th>\n",
       "      <th>lang</th>\n",
       "      <th>url</th>\n",
       "      <th>raw_data</th>\n",
       "    </tr>\n",
       "  </thead>\n",
       "  <tbody>\n",
       "    <tr>\n",
       "      <th>0</th>\n",
       "      <td>1</td>\n",
       "      <td>Jan van Aken</td>\n",
       "      <td>2017-02-13 17:13:45</td>\n",
       "      <td>chrome</td>\n",
       "      <td>de</td>\n",
       "      <td>http://clients1.google.de/complete/search</td>\n",
       "      <td>[\"Jan van Aken\",[\"jan van aken privat\",\"http:/...</td>\n",
       "    </tr>\n",
       "    <tr>\n",
       "      <th>1</th>\n",
       "      <td>2</td>\n",
       "      <td>Jan van Aken</td>\n",
       "      <td>2017-02-13 17:13:46</td>\n",
       "      <td>chrome</td>\n",
       "      <td>de</td>\n",
       "      <td>http://suggestqueries.google.com/complete/search</td>\n",
       "      <td>[\"Jan van Aken\",[\"jan van aken privat\",\"jan va...</td>\n",
       "    </tr>\n",
       "    <tr>\n",
       "      <th>2</th>\n",
       "      <td>3</td>\n",
       "      <td>Jan van Aken</td>\n",
       "      <td>2017-02-13 17:13:46</td>\n",
       "      <td>firefox</td>\n",
       "      <td>de</td>\n",
       "      <td>http://clients1.google.de/complete/search</td>\n",
       "      <td>[\"Jan van Aken\",[\"jan van aken\",\"jan van aken ...</td>\n",
       "    </tr>\n",
       "    <tr>\n",
       "      <th>3</th>\n",
       "      <td>4</td>\n",
       "      <td>Jan van Aken</td>\n",
       "      <td>2017-02-13 17:13:46</td>\n",
       "      <td>firefox</td>\n",
       "      <td>de</td>\n",
       "      <td>http://suggestqueries.google.com/complete/search</td>\n",
       "      <td>[\"Jan van Aken\",[\"jan van aken\",\"jan van aken ...</td>\n",
       "    </tr>\n",
       "    <tr>\n",
       "      <th>4</th>\n",
       "      <td>5</td>\n",
       "      <td>Jan van Aken</td>\n",
       "      <td>2017-02-13 17:13:46</td>\n",
       "      <td>serp</td>\n",
       "      <td>de</td>\n",
       "      <td>http://clients1.google.de/complete/search</td>\n",
       "      <td>[\"Jan van Aken\",[\"jan van aken\",\"jan van aken ...</td>\n",
       "    </tr>\n",
       "    <tr>\n",
       "      <th>...</th>\n",
       "      <td>...</td>\n",
       "      <td>...</td>\n",
       "      <td>...</td>\n",
       "      <td>...</td>\n",
       "      <td>...</td>\n",
       "      <td>...</td>\n",
       "      <td>...</td>\n",
       "    </tr>\n",
       "    <tr>\n",
       "      <th>19573</th>\n",
       "      <td>19574</td>\n",
       "      <td>Ulrike Bahr</td>\n",
       "      <td>2017-02-15 06:01:04</td>\n",
       "      <td>serp</td>\n",
       "      <td>de</td>\n",
       "      <td>http://suggestqueries.google.com/complete/search</td>\n",
       "      <td>[\"Ulrike Bahr\",[\"ulrike bahr\",\"ulrike bahr arc...</td>\n",
       "    </tr>\n",
       "    <tr>\n",
       "      <th>19574</th>\n",
       "      <td>19575</td>\n",
       "      <td>Ulrike Bahr</td>\n",
       "      <td>2017-02-15 06:01:06</td>\n",
       "      <td>opera</td>\n",
       "      <td>de</td>\n",
       "      <td>http://clients1.google.de/complete/search</td>\n",
       "      <td>[\"Ulrike Bahr\",[\"ulrike bahr\",\"ulrike bahrs sc...</td>\n",
       "    </tr>\n",
       "    <tr>\n",
       "      <th>19575</th>\n",
       "      <td>19576</td>\n",
       "      <td>Ulrike Bahr</td>\n",
       "      <td>2017-02-15 06:01:06</td>\n",
       "      <td>opera</td>\n",
       "      <td>de</td>\n",
       "      <td>http://suggestqueries.google.com/complete/search</td>\n",
       "      <td>[\"Ulrike Bahr\",[\"ulrike bahr\",\"ulrike bahr arc...</td>\n",
       "    </tr>\n",
       "    <tr>\n",
       "      <th>19576</th>\n",
       "      <td>19577</td>\n",
       "      <td>Bettina Bähr-Losse</td>\n",
       "      <td>2017-02-15 06:01:07</td>\n",
       "      <td>chrome</td>\n",
       "      <td>de</td>\n",
       "      <td>http://clients1.google.de/complete/search</td>\n",
       "      <td>[\"Bettina Bähr-Losse\",[],[],[],{\"google:client...</td>\n",
       "    </tr>\n",
       "    <tr>\n",
       "      <th>19577</th>\n",
       "      <td>19578</td>\n",
       "      <td>Bettina Bähr-Losse</td>\n",
       "      <td>2017-02-15 06:01:07</td>\n",
       "      <td>chrome</td>\n",
       "      <td>de</td>\n",
       "      <td>http://suggestqueries.google.com/complete/search</td>\n",
       "      <td>[\"Bettina Bähr-Losse\",[],[],[],{\"google:client...</td>\n",
       "    </tr>\n",
       "  </tbody>\n",
       "</table>\n",
       "<p>19578 rows × 7 columns</p>\n",
       "</div>"
      ],
      "text/plain": [
       "          id           queryterm                 date   client lang  \\\n",
       "0          1        Jan van Aken  2017-02-13 17:13:45   chrome   de   \n",
       "1          2        Jan van Aken  2017-02-13 17:13:46   chrome   de   \n",
       "2          3        Jan van Aken  2017-02-13 17:13:46  firefox   de   \n",
       "3          4        Jan van Aken  2017-02-13 17:13:46  firefox   de   \n",
       "4          5        Jan van Aken  2017-02-13 17:13:46     serp   de   \n",
       "...      ...                 ...                  ...      ...  ...   \n",
       "19573  19574         Ulrike Bahr  2017-02-15 06:01:04     serp   de   \n",
       "19574  19575         Ulrike Bahr  2017-02-15 06:01:06    opera   de   \n",
       "19575  19576         Ulrike Bahr  2017-02-15 06:01:06    opera   de   \n",
       "19576  19577  Bettina Bähr-Losse  2017-02-15 06:01:07   chrome   de   \n",
       "19577  19578  Bettina Bähr-Losse  2017-02-15 06:01:07   chrome   de   \n",
       "\n",
       "                                                    url  \\\n",
       "0             http://clients1.google.de/complete/search   \n",
       "1      http://suggestqueries.google.com/complete/search   \n",
       "2             http://clients1.google.de/complete/search   \n",
       "3      http://suggestqueries.google.com/complete/search   \n",
       "4             http://clients1.google.de/complete/search   \n",
       "...                                                 ...   \n",
       "19573  http://suggestqueries.google.com/complete/search   \n",
       "19574         http://clients1.google.de/complete/search   \n",
       "19575  http://suggestqueries.google.com/complete/search   \n",
       "19576         http://clients1.google.de/complete/search   \n",
       "19577  http://suggestqueries.google.com/complete/search   \n",
       "\n",
       "                                                raw_data  \n",
       "0      [\"Jan van Aken\",[\"jan van aken privat\",\"http:/...  \n",
       "1      [\"Jan van Aken\",[\"jan van aken privat\",\"jan va...  \n",
       "2      [\"Jan van Aken\",[\"jan van aken\",\"jan van aken ...  \n",
       "3      [\"Jan van Aken\",[\"jan van aken\",\"jan van aken ...  \n",
       "4      [\"Jan van Aken\",[\"jan van aken\",\"jan van aken ...  \n",
       "...                                                  ...  \n",
       "19573  [\"Ulrike Bahr\",[\"ulrike bahr\",\"ulrike bahr arc...  \n",
       "19574  [\"Ulrike Bahr\",[\"ulrike bahr\",\"ulrike bahrs sc...  \n",
       "19575  [\"Ulrike Bahr\",[\"ulrike bahr\",\"ulrike bahr arc...  \n",
       "19576  [\"Bettina Bähr-Losse\",[],[],[],{\"google:client...  \n",
       "19577  [\"Bettina Bähr-Losse\",[],[],[],{\"google:client...  \n",
       "\n",
       "[19578 rows x 7 columns]"
      ]
     },
     "execution_count": 4,
     "metadata": {},
     "output_type": "execute_result"
    }
   ],
   "source": [
    "Data= pd.read_csv(\"https://github.com/irgroup/dis25-2021/raw/main/suggestions_btw17_slice.csv\")\n",
    "Data"
   ]
  },
  {
   "cell_type": "code",
   "execution_count": 5,
   "metadata": {},
   "outputs": [
    {
     "data": {
      "text/plain": [
       "<bound method NDFrame.describe of           id           queryterm                 date   client lang  \\\n",
       "0          1        Jan van Aken  2017-02-13 17:13:45   chrome   de   \n",
       "1          2        Jan van Aken  2017-02-13 17:13:46   chrome   de   \n",
       "2          3        Jan van Aken  2017-02-13 17:13:46  firefox   de   \n",
       "3          4        Jan van Aken  2017-02-13 17:13:46  firefox   de   \n",
       "4          5        Jan van Aken  2017-02-13 17:13:46     serp   de   \n",
       "...      ...                 ...                  ...      ...  ...   \n",
       "19573  19574         Ulrike Bahr  2017-02-15 06:01:04     serp   de   \n",
       "19574  19575         Ulrike Bahr  2017-02-15 06:01:06    opera   de   \n",
       "19575  19576         Ulrike Bahr  2017-02-15 06:01:06    opera   de   \n",
       "19576  19577  Bettina Bähr-Losse  2017-02-15 06:01:07   chrome   de   \n",
       "19577  19578  Bettina Bähr-Losse  2017-02-15 06:01:07   chrome   de   \n",
       "\n",
       "                                                    url  \\\n",
       "0             http://clients1.google.de/complete/search   \n",
       "1      http://suggestqueries.google.com/complete/search   \n",
       "2             http://clients1.google.de/complete/search   \n",
       "3      http://suggestqueries.google.com/complete/search   \n",
       "4             http://clients1.google.de/complete/search   \n",
       "...                                                 ...   \n",
       "19573  http://suggestqueries.google.com/complete/search   \n",
       "19574         http://clients1.google.de/complete/search   \n",
       "19575  http://suggestqueries.google.com/complete/search   \n",
       "19576         http://clients1.google.de/complete/search   \n",
       "19577  http://suggestqueries.google.com/complete/search   \n",
       "\n",
       "                                                raw_data  \n",
       "0      [\"Jan van Aken\",[\"jan van aken privat\",\"http:/...  \n",
       "1      [\"Jan van Aken\",[\"jan van aken privat\",\"jan va...  \n",
       "2      [\"Jan van Aken\",[\"jan van aken\",\"jan van aken ...  \n",
       "3      [\"Jan van Aken\",[\"jan van aken\",\"jan van aken ...  \n",
       "4      [\"Jan van Aken\",[\"jan van aken\",\"jan van aken ...  \n",
       "...                                                  ...  \n",
       "19573  [\"Ulrike Bahr\",[\"ulrike bahr\",\"ulrike bahr arc...  \n",
       "19574  [\"Ulrike Bahr\",[\"ulrike bahr\",\"ulrike bahrs sc...  \n",
       "19575  [\"Ulrike Bahr\",[\"ulrike bahr\",\"ulrike bahr arc...  \n",
       "19576  [\"Bettina Bähr-Losse\",[],[],[],{\"google:client...  \n",
       "19577  [\"Bettina Bähr-Losse\",[],[],[],{\"google:client...  \n",
       "\n",
       "[19578 rows x 7 columns]>"
      ]
     },
     "execution_count": 5,
     "metadata": {},
     "output_type": "execute_result"
    }
   ],
   "source": [
    "Data.describe\n"
   ]
  },
  {
   "cell_type": "code",
   "execution_count": 6,
   "metadata": {},
   "outputs": [
    {
     "data": {
      "text/plain": [
       "<bound method NDFrame.head of           id           queryterm                 date   client lang  \\\n",
       "0          1        Jan van Aken  2017-02-13 17:13:45   chrome   de   \n",
       "1          2        Jan van Aken  2017-02-13 17:13:46   chrome   de   \n",
       "2          3        Jan van Aken  2017-02-13 17:13:46  firefox   de   \n",
       "3          4        Jan van Aken  2017-02-13 17:13:46  firefox   de   \n",
       "4          5        Jan van Aken  2017-02-13 17:13:46     serp   de   \n",
       "...      ...                 ...                  ...      ...  ...   \n",
       "19573  19574         Ulrike Bahr  2017-02-15 06:01:04     serp   de   \n",
       "19574  19575         Ulrike Bahr  2017-02-15 06:01:06    opera   de   \n",
       "19575  19576         Ulrike Bahr  2017-02-15 06:01:06    opera   de   \n",
       "19576  19577  Bettina Bähr-Losse  2017-02-15 06:01:07   chrome   de   \n",
       "19577  19578  Bettina Bähr-Losse  2017-02-15 06:01:07   chrome   de   \n",
       "\n",
       "                                                    url  \\\n",
       "0             http://clients1.google.de/complete/search   \n",
       "1      http://suggestqueries.google.com/complete/search   \n",
       "2             http://clients1.google.de/complete/search   \n",
       "3      http://suggestqueries.google.com/complete/search   \n",
       "4             http://clients1.google.de/complete/search   \n",
       "...                                                 ...   \n",
       "19573  http://suggestqueries.google.com/complete/search   \n",
       "19574         http://clients1.google.de/complete/search   \n",
       "19575  http://suggestqueries.google.com/complete/search   \n",
       "19576         http://clients1.google.de/complete/search   \n",
       "19577  http://suggestqueries.google.com/complete/search   \n",
       "\n",
       "                                                raw_data  \n",
       "0      [\"Jan van Aken\",[\"jan van aken privat\",\"http:/...  \n",
       "1      [\"Jan van Aken\",[\"jan van aken privat\",\"jan va...  \n",
       "2      [\"Jan van Aken\",[\"jan van aken\",\"jan van aken ...  \n",
       "3      [\"Jan van Aken\",[\"jan van aken\",\"jan van aken ...  \n",
       "4      [\"Jan van Aken\",[\"jan van aken\",\"jan van aken ...  \n",
       "...                                                  ...  \n",
       "19573  [\"Ulrike Bahr\",[\"ulrike bahr\",\"ulrike bahr arc...  \n",
       "19574  [\"Ulrike Bahr\",[\"ulrike bahr\",\"ulrike bahrs sc...  \n",
       "19575  [\"Ulrike Bahr\",[\"ulrike bahr\",\"ulrike bahr arc...  \n",
       "19576  [\"Bettina Bähr-Losse\",[],[],[],{\"google:client...  \n",
       "19577  [\"Bettina Bähr-Losse\",[],[],[],{\"google:client...  \n",
       "\n",
       "[19578 rows x 7 columns]>"
      ]
     },
     "execution_count": 6,
     "metadata": {},
     "output_type": "execute_result"
    }
   ],
   "source": [
    "Data.head"
   ]
  },
  {
   "cell_type": "code",
   "execution_count": 7,
   "metadata": {},
   "outputs": [
    {
     "data": {
      "text/plain": [
       "id                                                           2\n",
       "queryterm                                         Jan van Aken\n",
       "date                                       2017-02-13 17:13:46\n",
       "client                                                  chrome\n",
       "lang                                                        de\n",
       "url           http://suggestqueries.google.com/complete/search\n",
       "raw_data     [\"Jan van Aken\",[\"jan van aken privat\",\"jan va...\n",
       "Name: 1, dtype: object"
      ]
     },
     "execution_count": 7,
     "metadata": {},
     "output_type": "execute_result"
    }
   ],
   "source": [
    "Data.loc[1]"
   ]
  },
  {
   "cell_type": "code",
   "execution_count": 25,
   "metadata": {},
   "outputs": [
    {
     "data": {
      "text/plain": [
       "'[\"Jan van Aken\",[\"jan van aken privat\",\"jan van aken bundestag\",\"jan van aken biografie\",\"jan van aken twitter\",\"jan van aken das geständnis des mönchs\",\"jan van aken facebook\",\"jan van aken türkei\",\"jan van aken israel\",\"jan van aken kontakt\",\"jan van aken mdb\",\"jan van aken maler\",\"jan van aken linke\",\"jan van aken sahra wagenknecht\",\"jan van aken mitarbeiter\",\"jan van aken g20\",\"jan van aken kurden\",\"jan van aken praktikum\",\"jan van aken pkk fahne\",\"jan van aken frau\",\"jan van aken autor\"],[\"\",\"\",\"\",\"\",\"\",\"\",\"\",\"\",\"\",\"\",\"\",\"\",\"\",\"\",\"\",\"\",\"\",\"\",\"\",\"\"],[],{\"google:clientdata\":{\"bpc\":false,\"tlw\":false},\"google:suggestrelevance\":[601,600,567,566,565,564,563,562,561,560,559,558,557,556,555,554,553,552,551,550],\"google:suggesttype\":[\"QUERY\",\"QUERY\",\"QUERY\",\"QUERY\",\"QUERY\",\"QUERY\",\"QUERY\",\"QUERY\",\"QUERY\",\"QUERY\",\"QUERY\",\"QUERY\",\"QUERY\",\"QUERY\",\"QUERY\",\"QUERY\",\"QUERY\",\"QUERY\",\"QUERY\",\"QUERY\"],\"google:verbatimrelevance\":1300}]'"
      ]
     },
     "execution_count": 25,
     "metadata": {},
     "output_type": "execute_result"
    }
   ],
   "source": [
    "Data.at[1,\"raw_data\"]"
   ]
  },
  {
   "cell_type": "code",
   "execution_count": 26,
   "metadata": {
    "scrolled": true
   },
   "outputs": [
    {
     "data": {
      "text/plain": [
       "id            int64\n",
       "queryterm    object\n",
       "date         object\n",
       "client       object\n",
       "lang         object\n",
       "url          object\n",
       "raw_data     object\n",
       "dtype: object"
      ]
     },
     "execution_count": 26,
     "metadata": {},
     "output_type": "execute_result"
    }
   ],
   "source": [
    "Data.dtypes\n"
   ]
  },
  {
   "cell_type": "markdown",
   "metadata": {},
   "source": [
    "## Regex Pattern"
   ]
  },
  {
   "cell_type": "code",
   "execution_count": null,
   "metadata": {},
   "outputs": [],
   "source": [
    "pattern = \"\".+?\"\""
   ]
  },
  {
   "cell_type": "code",
   "execution_count": null,
   "metadata": {},
   "outputs": [],
   "source": []
  }
 ],
 "metadata": {
  "interpreter": {
   "hash": "319c24ade14b7873a3f936c1569cf8c1853592b8350107cb8f60c9b2a2771b37"
  },
  "kernelspec": {
   "display_name": "Python 3.8.5 64-bit ('base': conda)",
   "name": "python3"
  },
  "language_info": {
   "name": "python",
   "version": ""
  }
 },
 "nbformat": 4,
 "nbformat_minor": 4
}